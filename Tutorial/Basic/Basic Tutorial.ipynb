{
 "cells": [
  {
   "cell_type": "code",
   "execution_count": null,
   "id": "629054b1-21b8-4e76-9b83-98ab817000ae",
   "metadata": {},
   "outputs": [],
   "source": [
    "import numpy as np\n",
    "\n",
    "import matplotlib.pyplot as plt\n",
    "import matplotlib.colors as colors\n",
    "\n",
    "from netCDF4 import Dataset\n",
    "import glob, sys\n",
    "\n",
    "sys.path.append('../../PythonTools')\n",
    "import PlotTools.ScientificCbar"
   ]
  },
  {
   "cell_type": "code",
   "execution_count": null,
   "id": "9bc77e94-0c26-404b-855c-b1eac679a029",
   "metadata": {},
   "outputs": [],
   "source": [
    "##\n",
    "# Get a list of all of the files and extract the filter scales\n",
    "##\n",
    "\n",
    "filter_files = glob.glob('filter_*.nc')\n",
    "filter_scales = np.array([ Dataset(fp).filter_scale for fp in filter_files ])\n",
    "\n",
    "# Re-sort the files according to filter scale\n",
    "inds = np.argsort( filter_scales )\n",
    "filter_files  = [ filter_files[ind] for ind in inds ]\n",
    "filter_scales = filter_scales[inds]"
   ]
  },
  {
   "cell_type": "code",
   "execution_count": null,
   "id": "3e91fe0f-2ac7-48bf-a13f-574779417897",
   "metadata": {},
   "outputs": [],
   "source": [
    "##\n",
    "#   Also load in the original data\n",
    "##\n",
    "\n",
    "with Dataset( 'velocity_sample.nc', 'r' ) as dset:\n",
    "\n",
    "    x = dset['longitude'][:] / 1e3\n",
    "    y = dset['latitude' ][:] / 1e3\n",
    "\n",
    "    uo = dset['uo'][0,0,:,:]\n",
    "    vo = dset['vo'][0,0,:,:]"
   ]
  },
  {
   "cell_type": "code",
   "execution_count": null,
   "id": "a3335e62-0d07-469b-97a0-4354ee9e0bd2",
   "metadata": {},
   "outputs": [],
   "source": [
    "fig, axes = plt.subplots( 3, 1, sharex = True, sharey = True, figsize = (7,5), \n",
    "                                gridspec_kw = dict( left = 0.075, right = 0.95, bottom = 0.05, top = 0.95 ) )\n",
    "\n",
    "plot_params = dict( vmin = -1.5, vmax = 1.5, cmap = 'bwr', rasterized = True )\n",
    "\n",
    "qm = axes[0].pcolormesh( x, y, uo,                       **plot_params )\n",
    "axes[1].pcolormesh( x, y, vo,                       **plot_params )\n",
    "axes[2].pcolormesh( x, y, np.sqrt( uo**2 + vo**2 ), **plot_params )\n",
    "\n",
    "plt.colorbar( qm, ax = axes )\n",
    "\n",
    "axes[0].set_ylabel( 'x-velocity' )\n",
    "axes[1].set_ylabel( 'y-velocity' )\n",
    "axes[2].set_ylabel( 'velocity magnitude' )\n",
    "\n",
    "plt.savefig('unfiltered_fields.pdf', dpi = 250)"
   ]
  },
  {
   "cell_type": "code",
   "execution_count": null,
   "id": "0bf3e561-1bd5-4010-95f1-71c3fbc30683",
   "metadata": {},
   "outputs": [],
   "source": [
    "##\n",
    "#   Plot Filtered Fields\n",
    "##\n",
    "\n",
    "if len(filter_files) > 4:\n",
    "    print('More than 4 filter scales used. Will only plot the smallest four.')\n",
    "\n",
    "# A list of the variables that we'll plot\n",
    "variables = [   ('coarse_KE', 'log'), \n",
    "                ('fine_KE', 'log'), \n",
    "                ('Pi', 'lin'), \n",
    "                ('fine_u_lon', 'lin'),\n",
    "                ('fine_u_lat', 'lin'),\n",
    "                ('coarse_u_lon', 'lin'),\n",
    "                ('coarse_u_lat', 'lin')\n",
    "            ]"
   ]
  },
  {
   "cell_type": "code",
   "execution_count": null,
   "id": "9fdee31b-4a15-4ef6-896f-379e646edcb2",
   "metadata": {},
   "outputs": [],
   "source": [
    "for var, kind in variables:\n",
    "\n",
    "    fig, axes = plt.subplots( 4, 1, sharex = True, sharey = True, figsize = (7,7), \n",
    "                                gridspec_kw = dict( left = 0.075, right = 0.95, bottom = 0.05, top = 0.95 ) )\n",
    "\n",
    "    qms = np.zeros( axes.shape, dtype = 'object' )\n",
    "\n",
    "    for ii in range( max(4, len(filter_scales))):\n",
    "\n",
    "        axes[ii].set_ylabel('$\\ell$ = {0:g}km'.format( filter_scales[ii] / 1e3 ))\n",
    "\n",
    "        with Dataset( filter_files[ii], 'r' ) as dset:\n",
    "            x = dset['longitude'][:] / 1e3\n",
    "            y = dset['latitude' ][:] / 1e3\n",
    "\n",
    "            # Dimension order is time (t) - depth (z) - latitude (y) - longitude (x)\n",
    "            data = dset[var][0,0,:,:]\n",
    "\n",
    "\n",
    "        cv = np.max(np.abs(data))\n",
    "        if kind == 'lin':\n",
    "            norm = colors.Normalize( vmin = -cv, vmax = cv )\n",
    "            cmap = 'bwr'\n",
    "        elif kind == 'log':\n",
    "            norm = colors.LogNorm( vmin = cv / 1e3, vmax = cv)\n",
    "            cmap = 'viridis'\n",
    "        elif kind == 'symlog':\n",
    "            norm = colors.SymLogNorm( vmin = -cv, vmax = cv, linthresh = cv / 1e3 )\n",
    "            cmap = 'bwr'\n",
    "\n",
    "        qms[ii] = axes[ii].pcolormesh(x, y, data, norm = norm, cmap = cmap, rasterized = True)\n",
    "\n",
    "    for q, ax in zip( qms, axes ):\n",
    "        cbar = plt.colorbar( q, ax = ax )\n",
    "        if kind == 'lin':\n",
    "            PlotTools.ScientificCbar( cbar )\n",
    "\n",
    "    plt.savefig( var + '.pdf', dpi = 250 )"
   ]
  }
 ],
 "metadata": {
  "kernelspec": {
   "display_name": "Python 3 (ipykernel)",
   "language": "python",
   "name": "python3"
  },
  "language_info": {
   "codemirror_mode": {
    "name": "ipython",
    "version": 3
   },
   "file_extension": ".py",
   "mimetype": "text/x-python",
   "name": "python",
   "nbconvert_exporter": "python",
   "pygments_lexer": "ipython3",
   "version": "3.7.13"
  }
 },
 "nbformat": 4,
 "nbformat_minor": 5
}
